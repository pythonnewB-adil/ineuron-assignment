{
  "nbformat": 4,
  "nbformat_minor": 0,
  "metadata": {
    "colab": {
      "provenance": [],
      "authorship_tag": "ABX9TyOykoCel16HORF1ILh6fuKi",
      "include_colab_link": true
    },
    "kernelspec": {
      "name": "python3",
      "display_name": "Python 3"
    },
    "language_info": {
      "name": "python"
    }
  },
  "cells": [
    {
      "cell_type": "markdown",
      "metadata": {
        "id": "view-in-github",
        "colab_type": "text"
      },
      "source": [
        "<a href=\"https://colab.research.google.com/github/pythonnewB-adil/ineuron-assignment/blob/main/Assignemnt7.ipynb\" target=\"_parent\"><img src=\"https://colab.research.google.com/assets/colab-badge.svg\" alt=\"Open In Colab\"/></a>"
      ]
    },
    {
      "cell_type": "markdown",
      "source": [
        "Q.1. Create two int type variables, apply addition, subtraction, division and multiplications\n",
        "and store the results in variables. Then print the data in the following format by calling the\n",
        "variables:\n",
        "\n",
        "First variable is __ & second variable is __.\n",
        "\n",
        "Addition: __ + __ = __\n",
        "\n",
        "Subtraction: __ - __ = __\n",
        "\n",
        "Multiplication: __ * __ = __\n",
        "\n",
        "Division: __ / __ = __"
      ],
      "metadata": {
        "id": "LATCByMB9Bvy"
      }
    },
    {
      "cell_type": "code",
      "execution_count": 1,
      "metadata": {
        "colab": {
          "base_uri": "https://localhost:8080/"
        },
        "id": "x2CoafBq8_n1",
        "outputId": "fcc59e65-ae36-477d-8c26-3bd25cc8604c"
      },
      "outputs": [
        {
          "output_type": "stream",
          "name": "stdout",
          "text": [
            "First Variable is 10 & second variable is 5\n",
            "Addition: 10 + 5 = 15 \n",
            "Subtraction: 10 - 5 = 5\n",
            "Multiplication: 10 * 5 = 50\n",
            "Division: 10 / 5 = 2.0\n"
          ]
        }
      ],
      "source": [
        "var_1=10\n",
        "var_2=5\n",
        "add_result=var_1+var_2\n",
        "sub_result=var_1-var_2\n",
        "mult_result=var_1*var_2\n",
        "div_result=var_1/var_2\n",
        "\n",
        "print(f\"First Variable is {var_1} & second variable is {var_2}\")\n",
        "print(f\"Addition: {var_1} + {var_2} = {add_result} \")\n",
        "print(f\"Subtraction: {var_1} - {var_2} = {sub_result}\")\n",
        "print(f\"Multiplication: {var_1} * {var_2} = {mult_result}\")\n",
        "print(f\"Division: {var_1} / {var_2} = {div_result}\")"
      ]
    },
    {
      "cell_type": "code",
      "source": [
        "var_1=int(input(\"Enter the First Varaible:\"))\n",
        "var_2=int(input(\"Enter the Second Variable:\"))\n",
        "add_result=var_1+var_2\n",
        "sub_result=var_1-var_2\n",
        "mult_result=var_1*var_2\n",
        "def div_result(dividend, divisor):\n",
        "  try:\n",
        "    result= dividend/divisor\n",
        "    return result\n",
        "  except ZeroDivisionError:\n",
        "    print(\"Error: Division by zero is not possible\")\n",
        "    return None\n",
        "\n",
        "print(f\"First Variable is {var_1} & second variable is {var_2}\")\n",
        "print(f\"Addition: {var_1} + {var_2} = {add_result} \")\n",
        "print(f\"Subtraction: {var_1} - {var_2} = {sub_result}\")\n",
        "print(f\"Multiplication: {var_1} * {var_2} = {mult_result}\")\n",
        "print(f\"Division: {var_1} / {var_2} = {div_result(var_1,var_2)}\")"
      ],
      "metadata": {
        "colab": {
          "base_uri": "https://localhost:8080/"
        },
        "id": "jSt8DM4t_V4m",
        "outputId": "13518e06-5453-42e5-9fa9-215696235fda"
      },
      "execution_count": 10,
      "outputs": [
        {
          "output_type": "stream",
          "name": "stdout",
          "text": [
            "Enter the First Varaible:10\n",
            "Enter the Second Variable:0\n",
            "First Variable is 10 & second variable is 0\n",
            "Addition: 10 + 0 = 10 \n",
            "Subtraction: 10 - 0 = 10\n",
            "Multiplication: 10 * 0 = 0\n",
            "Error: Division by zero is not possible\n",
            "Division: 10 / 0 = None\n"
          ]
        }
      ]
    },
    {
      "cell_type": "markdown",
      "source": [
        "Q.2. What is the difference between the following operators:\n",
        "(i) ‘/’ & ‘//’\n",
        "(ii) ‘**’ & ‘^’"
      ],
      "metadata": {
        "id": "pfWuhiL3CQIu"
      }
    },
    {
      "cell_type": "markdown",
      "source": [
        "(i) ‘/’ & ‘//’  : First operator gives the float value as answer while second operator gives integer value"
      ],
      "metadata": {
        "id": "Ta_UD5_mCrrR"
      }
    },
    {
      "cell_type": "markdown",
      "source": [
        "(ii) ‘**’ & ‘^’ : First operator returs power of a value, while second operators is bitwise XOR operator"
      ],
      "metadata": {
        "id": "PZv-pPB9C9-O"
      }
    },
    {
      "cell_type": "code",
      "source": [
        "print(f\"10/3= {10/3}\")\n",
        "print(f\"10//3= {10//3}\")\n",
        "print(f\"10**3={10**3}\")\n",
        "print(f\"10^3-{10^3}\")"
      ],
      "metadata": {
        "colab": {
          "base_uri": "https://localhost:8080/"
        },
        "id": "f1eXekQoC82S",
        "outputId": "1836c138-13ff-4f26-c13e-16675c3ac990"
      },
      "execution_count": 12,
      "outputs": [
        {
          "output_type": "stream",
          "name": "stdout",
          "text": [
            "10/3= 3.3333333333333335\n",
            "10//3= 3\n",
            "10**3=1000\n",
            "10^3-9\n"
          ]
        }
      ]
    },
    {
      "cell_type": "markdown",
      "source": [
        "Q.3. List the logical operators."
      ],
      "metadata": {
        "id": "8ePrQXkWEQSQ"
      }
    },
    {
      "cell_type": "markdown",
      "source": [
        "and, or , not"
      ],
      "metadata": {
        "id": "2w1CFrGvEQe4"
      }
    },
    {
      "cell_type": "markdown",
      "source": [
        "Explain right shift operator and left shift operator with examples."
      ],
      "metadata": {
        "id": "mkEiP50SEZss"
      }
    },
    {
      "cell_type": "code",
      "source": [
        "#Right shift operator shifts the binary value of a given variable by by number  of units specified in the argument to the right 100>>1 = 10\n",
        "#Left shift operator does the reverse 100<<1=1000\n",
        "print(f\"8>>1={8>>1}\")\n",
        "print(f\"2<<1={2<<1}\")"
      ],
      "metadata": {
        "colab": {
          "base_uri": "https://localhost:8080/"
        },
        "id": "G43yCjiiCO-9",
        "outputId": "de64b838-1ecc-4848-a077-4824901e3354"
      },
      "execution_count": 14,
      "outputs": [
        {
          "output_type": "stream",
          "name": "stdout",
          "text": [
            "8>>1=4\n",
            "2<<1=4\n"
          ]
        }
      ]
    },
    {
      "cell_type": "markdown",
      "source": [],
      "metadata": {
        "id": "rXLJ_qPGUaEf"
      }
    },
    {
      "cell_type": "code",
      "source": [
        "my_list = [1,2,3,4,5,6,7,8,9,10,11,12,13,14,15]\n",
        "print(f\"Length of My List = {len(my_list)}\")\n",
        "if 10 in my_list:\n",
        "  print(\"10 is available in my list\")\n",
        "else:\n",
        "  print(\"10 is not available in my list\")\n"
      ],
      "metadata": {
        "colab": {
          "base_uri": "https://localhost:8080/"
        },
        "id": "m9HwXQjjUadh",
        "outputId": "cefc84e6-7d95-47f2-e6a5-8ab04422ec78"
      },
      "execution_count": 17,
      "outputs": [
        {
          "output_type": "stream",
          "name": "stdout",
          "text": [
            "Length of My List = 15\n",
            "10 is available in my list\n"
          ]
        }
      ]
    }
  ]
}