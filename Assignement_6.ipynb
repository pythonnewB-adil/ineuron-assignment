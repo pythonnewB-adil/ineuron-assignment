{
  "nbformat": 4,
  "nbformat_minor": 0,
  "metadata": {
    "colab": {
      "provenance": [],
      "authorship_tag": "ABX9TyPZsKFjnFuX/CiTpN5uSGRV",
      "include_colab_link": true
    },
    "kernelspec": {
      "name": "python3",
      "display_name": "Python 3"
    },
    "language_info": {
      "name": "python"
    }
  },
  "cells": [
    {
      "cell_type": "markdown",
      "metadata": {
        "id": "view-in-github",
        "colab_type": "text"
      },
      "source": [
        "<a href=\"https://colab.research.google.com/github/pythonnewB-adil/ineuron-assignment/blob/main/Assignement_6.ipynb\" target=\"_parent\"><img src=\"https://colab.research.google.com/assets/colab-badge.svg\" alt=\"Open In Colab\"/></a>"
      ]
    },
    {
      "cell_type": "markdown",
      "source": [
        "Q.1. What are keywords in python? Using the keyword library, print all the python keywords."
      ],
      "metadata": {
        "id": "Eq8_JIH8bjTW"
      }
    },
    {
      "cell_type": "code",
      "source": [
        "pip install setuptools"
      ],
      "metadata": {
        "colab": {
          "base_uri": "https://localhost:8080/"
        },
        "id": "6AyjacwRbdbz",
        "outputId": "f5270876-9654-4f1d-970c-dd27191b7ca0"
      },
      "execution_count": 15,
      "outputs": [
        {
          "output_type": "stream",
          "name": "stdout",
          "text": [
            "Requirement already satisfied: setuptools in /usr/local/lib/python3.10/dist-packages (67.7.2)\n"
          ]
        }
      ]
    },
    {
      "cell_type": "code",
      "source": [
        "import pkg_resources\n",
        "\n",
        "installed_libraries = [pkg.key for pkg in pkg_resources.working_set]\n",
        "print(installed_libraries)"
      ],
      "metadata": {
        "colab": {
          "base_uri": "https://localhost:8080/"
        },
        "id": "lp5oQ6eQbn7t",
        "outputId": "a82c6e74-7d57-430c-dae9-d0dff58fb3b9"
      },
      "execution_count": 17,
      "outputs": [
        {
          "output_type": "stream",
          "name": "stdout",
          "text": [
            "['babel', 'cython', 'fiona', 'flask', 'gdal', 'jinja2', 'lunarcalendar', 'markdown', 'markupsafe', 'pillow', 'pydrive', 'pymeeus', 'pyopengl', 'pysocks', 'pywavelets', 'pyyaml', 'pygments', 'sqlalchemy', 'send2trash', 'sphinx', 'werkzeug', 'absl-py', 'aiohttp', 'aiosignal', 'alabaster', 'albumentations', 'altair', 'anyio', 'appdirs', 'argon2-cffi', 'argon2-cffi-bindings', 'array-record', 'arviz', 'astropy', 'astunparse', 'async-timeout', 'attrs', 'audioread', 'autograd', 'backcall', 'beautifulsoup4', 'bleach', 'blis', 'blosc2', 'bokeh', 'branca', 'build', 'cachecontrol', 'cachetools', 'catalogue', 'certifi', 'cffi', 'chardet', 'charset-normalizer', 'chex', 'click', 'click-plugins', 'cligj', 'cloudpickle', 'cmake', 'cmdstanpy', 'colorcet', 'colorlover', 'community', 'confection', 'cons', 'contextlib2', 'contourpy', 'convertdate', 'cufflinks', 'cvxopt', 'cvxpy', 'cycler', 'cymem', 'dask', 'datascience', 'db-dtypes', 'debugpy', 'decorator', 'defusedxml', 'distributed', 'dlib', 'dm-tree', 'docutils', 'dopamine-rl', 'duckdb', 'earthengine-api', 'easydict', 'ecos', 'editdistance', 'en-core-web-sm', 'entrypoints', 'ephem', 'et-xmlfile', 'etils', 'etuples', 'exceptiongroup', 'fastai', 'fastcore', 'fastdownload', 'fastjsonschema', 'fastprogress', 'fastrlock', 'filelock', 'firebase-admin', 'flatbuffers', 'flax', 'folium', 'fonttools', 'frozendict', 'frozenlist', 'fsspec', 'future', 'gast', 'gcsfs', 'gdown', 'gensim', 'geographiclib', 'geopandas', 'geopy', 'gin-config', 'glob2', 'google', 'google-api-core', 'google-api-python-client', 'google-auth', 'google-auth-httplib2', 'google-auth-oauthlib', 'google-cloud-bigquery', 'google-cloud-bigquery-connection', 'google-cloud-bigquery-storage', 'google-cloud-core', 'google-cloud-datastore', 'google-cloud-firestore', 'google-cloud-functions', 'google-cloud-language', 'google-cloud-storage', 'google-cloud-translate', 'google-colab', 'google-crc32c', 'google-pasta', 'google-resumable-media', 'googleapis-common-protos', 'googledrivedownloader', 'graphviz', 'greenlet', 'grpc-google-iam-v1', 'grpcio', 'grpcio-status', 'gspread', 'gspread-dataframe', 'gym', 'gym-notices', 'h5netcdf', 'h5py', 'holidays', 'holoviews', 'html5lib', 'httpimport', 'httplib2', 'humanize', 'hyperopt', 'idna', 'imageio', 'imageio-ffmpeg', 'imagesize', 'imbalanced-learn', 'imgaug', 'importlib-resources', 'imutils', 'inflect', 'iniconfig', 'intel-openmp', 'ipykernel', 'ipython', 'ipython-genutils', 'ipython-sql', 'ipywidgets', 'itsdangerous', 'jax', 'jaxlib', 'jieba', 'joblib', 'jsonpickle', 'jsonschema', 'jupyter-client', 'jupyter-console', 'jupyter-core', 'jupyter-server', 'jupyterlab-pygments', 'jupyterlab-widgets', 'kaggle', 'keras', 'kiwisolver', 'langcodes', 'lazy-loader', 'libclang', 'librosa', 'lightgbm', 'lit', 'llvmlite', 'locket', 'logical-unification', 'lxml', 'markdown-it-py', 'matplotlib', 'matplotlib-inline', 'matplotlib-venn', 'mdurl', 'minikanren', 'missingno', 'mistune', 'mizani', 'mkl', 'ml-dtypes', 'mlxtend', 'more-itertools', 'moviepy', 'mpmath', 'msgpack', 'multidict', 'multipledispatch', 'multitasking', 'murmurhash', 'music21', 'natsort', 'nbclient', 'nbconvert', 'nbformat', 'nest-asyncio', 'networkx', 'nibabel', 'nltk', 'notebook', 'numba', 'numexpr', 'numpy', 'oauth2client', 'oauthlib', 'opencv-contrib-python', 'opencv-python', 'opencv-python-headless', 'openpyxl', 'opt-einsum', 'optax', 'orbax-checkpoint', 'osqp', 'packaging', 'palettable', 'pandas', 'pandas-datareader', 'pandas-gbq', 'pandocfilters', 'panel', 'param', 'parso', 'partd', 'pathlib', 'pathy', 'patsy', 'pexpect', 'pickleshare', 'pip', 'pip-tools', 'platformdirs', 'plotly', 'plotnine', 'pluggy', 'polars', 'pooch', 'portpicker', 'prefetch-generator', 'preshed', 'prettytable', 'proglog', 'progressbar2', 'prometheus-client', 'promise', 'prompt-toolkit', 'prophet', 'proto-plus', 'protobuf', 'psutil', 'psycopg2', 'ptyprocess', 'py4j', 'py-cpuinfo', 'pyarrow', 'pyasn1', 'pyasn1-modules', 'pycocotools', 'pycparser', 'pyct', 'pydantic', 'pydata-google-auth', 'pydot', 'pydot-ng', 'pydotplus', 'pyerfa', 'pygame', 'pymc', 'pymystem3', 'pyparsing', 'pyproj', 'pyproject-hooks', 'pyrsistent', 'pytensor', 'pytest', 'python-apt', 'python-dateutil', 'python-louvain', 'python-slugify', 'python-utils', 'pytz', 'pyviz-comms', 'pyzmq', 'qdldl', 'qudida', 'regex', 'requests', 'requests-oauthlib', 'requirements-parser', 'rich', 'rpy2', 'rsa', 'scikit-image', 'scikit-learn', 'scipy', 'scs', 'seaborn', 'setuptools', 'shapely', 'six', 'sklearn-pandas', 'smart-open', 'sniffio', 'snowballstemmer', 'sortedcontainers', 'soundfile', 'soupsieve', 'soxr', 'spacy', 'spacy-legacy', 'spacy-loggers', 'sphinxcontrib-applehelp', 'sphinxcontrib-devhelp', 'sphinxcontrib-htmlhelp', 'sphinxcontrib-jsmath', 'sphinxcontrib-qthelp', 'sphinxcontrib-serializinghtml', 'sqlparse', 'srsly', 'statsmodels', 'sympy', 'tables', 'tabulate', 'tblib', 'tenacity', 'tensorboard', 'tensorboard-data-server', 'tensorflow', 'tensorflow-datasets', 'tensorflow-estimator', 'tensorflow-gcs-config', 'tensorflow-hub', 'tensorflow-io-gcs-filesystem', 'tensorflow-metadata', 'tensorflow-probability', 'tensorstore', 'termcolor', 'terminado', 'text-unidecode', 'textblob', 'tf-slim', 'thinc', 'threadpoolctl', 'tifffile', 'tinycss2', 'toml', 'tomli', 'toolz', 'torch', 'torchaudio', 'torchdata', 'torchsummary', 'torchtext', 'torchvision', 'tornado', 'tqdm', 'traitlets', 'triton', 'tweepy', 'typer', 'types-setuptools', 'typing-extensions', 'tzlocal', 'uritemplate', 'urllib3', 'vega-datasets', 'wasabi', 'wcwidth', 'webcolors', 'webencodings', 'websocket-client', 'wheel', 'widgetsnbextension', 'wordcloud', 'wrapt', 'xarray', 'xarray-einstats', 'xgboost', 'xlrd', 'yarl', 'yellowbrick', 'yfinance', 'zict', 'zipp', 'pygobject', 'pyjwt', 'secretstorage', 'blinker', 'cryptography', 'dbus-python', 'distro', 'importlib-metadata', 'jeepney', 'keyring', 'launchpadlib', 'lazr.restfulclient', 'lazr.uri', 'wadllib']\n"
          ]
        }
      ]
    },
    {
      "cell_type": "markdown",
      "source": [
        "Q.2. What are the rules to create variables in python?"
      ],
      "metadata": {
        "id": "IdG9qz9DcqQH"
      }
    },
    {
      "cell_type": "markdown",
      "source": [
        "A variable can be any allowed string of text or combination of text numbers and underscore symbol. A varable name cannot start with a number and varaible name cannot be any of the predefined keywords in python."
      ],
      "metadata": {
        "id": "tJqhKmoScw26"
      }
    },
    {
      "cell_type": "markdown",
      "source": [
        "Q.3. What are the standards and conventions followed for the nomenclature of variables in python to improve code readability and maintainability?"
      ],
      "metadata": {
        "id": "X12m84sNdocg"
      }
    },
    {
      "cell_type": "markdown",
      "source": [
        "Snake Case: variables, functions and modules are all named in lower case with underscore in place of spaces.\n",
        "\n",
        "Camel Case: Used for classes where we write each words with first letter capital and not use spaces\n",
        "\n",
        "UPPER_CASE:Used for constants like PI=3.14\n",
        "\n",
        "Single Leading Underscore:for variables and functions that are used within particular modulem\n",
        "\n",
        "Double Leading Underscore: Used to make value private\n",
        "\n",
        "Triple Double underscore: methods or attributes with predefined meanings in python classes like __init__"
      ],
      "metadata": {
        "id": "o99lH5opdqXk"
      }
    },
    {
      "cell_type": "code",
      "source": [],
      "metadata": {
        "id": "jtoBPlZgeokM"
      },
      "execution_count": null,
      "outputs": []
    },
    {
      "cell_type": "markdown",
      "source": [
        "Q.4. What will happen if a keyword is used as a variable name?\n"
      ],
      "metadata": {
        "id": "XS2fYmn6fIE4"
      }
    },
    {
      "cell_type": "code",
      "source": [
        "def = 10"
      ],
      "metadata": {
        "colab": {
          "base_uri": "https://localhost:8080/",
          "height": 131
        },
        "id": "rzlCBtfKfaeV",
        "outputId": "707e790b-2aa4-43cc-be47-3cc88db9e497"
      },
      "execution_count": 18,
      "outputs": [
        {
          "output_type": "error",
          "ename": "SyntaxError",
          "evalue": "ignored",
          "traceback": [
            "\u001b[0;36m  File \u001b[0;32m\"<ipython-input-18-62f5cf358967>\"\u001b[0;36m, line \u001b[0;32m1\u001b[0m\n\u001b[0;31m    def = 10\u001b[0m\n\u001b[0m        ^\u001b[0m\n\u001b[0;31mSyntaxError\u001b[0m\u001b[0;31m:\u001b[0m invalid syntax\n"
          ]
        }
      ]
    },
    {
      "cell_type": "markdown",
      "source": [
        "This will cause a syntax error as shown above"
      ],
      "metadata": {
        "id": "FgGe7bCUffjz"
      }
    },
    {
      "cell_type": "markdown",
      "source": [
        "Q.5. For what purpose def keyword is used?"
      ],
      "metadata": {
        "id": "Bt9iGeX-fi_v"
      }
    },
    {
      "cell_type": "markdown",
      "source": [
        "To define a function"
      ],
      "metadata": {
        "id": "wr0ifNhRfmgW"
      }
    },
    {
      "cell_type": "markdown",
      "source": [
        "Q.6. What is the operation of this special character ‘\\’?"
      ],
      "metadata": {
        "id": "HccPaNhWfrvs"
      }
    },
    {
      "cell_type": "markdown",
      "source": [
        "It is a special escape charecter that allows us to type charecters that cannot be typed directly such as new line (\\n) Tab (\\t)"
      ],
      "metadata": {
        "id": "fz2HcUNqfzCZ"
      }
    },
    {
      "cell_type": "markdown",
      "source": [
        "Q.7. Give an example of the following conditions:\n",
        "(i) Homogeneous list\n",
        "(ii) Heterogeneous set\n",
        "(iii) Homogeneous tuple"
      ],
      "metadata": {
        "id": "rP2H1m04gN04"
      }
    },
    {
      "cell_type": "markdown",
      "source": [
        "homogenous_list=[1,2,3,4,5]\n",
        "\n",
        "hetergenous_list=[1,\"ineuorn\"]\n",
        "\n",
        "homgenous_tuple=(\"alpha\",\"Beta\",\"Gamma\")"
      ],
      "metadata": {
        "id": "tWdF-rVTgURx"
      }
    },
    {
      "cell_type": "markdown",
      "source": [
        "Q.8. Explain the mutable and immutable data types with proper explanation & examples."
      ],
      "metadata": {
        "id": "cfLP6f4zg2gb"
      }
    },
    {
      "cell_type": "code",
      "source": [
        "#List is mutable data type as we may change the contents of list after its defenition\n",
        "list=[1,2,3,4,5]\n",
        "print(list)"
      ],
      "metadata": {
        "colab": {
          "base_uri": "https://localhost:8080/"
        },
        "id": "31XHSOTegt1_",
        "outputId": "4d4d7645-5f55-4163-a95d-e060e3413074"
      },
      "execution_count": 19,
      "outputs": [
        {
          "output_type": "stream",
          "name": "stdout",
          "text": [
            "[1, 2, 3, 4, 5]\n"
          ]
        }
      ]
    },
    {
      "cell_type": "code",
      "source": [
        "list[-1]=\"Ineuron\"\n",
        "list"
      ],
      "metadata": {
        "colab": {
          "base_uri": "https://localhost:8080/"
        },
        "id": "qlxRJyQlhGiP",
        "outputId": "52b30054-5953-44a8-d39d-41208bdbdff6"
      },
      "execution_count": 20,
      "outputs": [
        {
          "output_type": "execute_result",
          "data": {
            "text/plain": [
              "[1, 2, 3, 4, 'Ineuron']"
            ]
          },
          "metadata": {},
          "execution_count": 20
        }
      ]
    },
    {
      "cell_type": "code",
      "source": [
        "list.append(5)\n",
        "list"
      ],
      "metadata": {
        "colab": {
          "base_uri": "https://localhost:8080/"
        },
        "id": "3y83_VsEhSwT",
        "outputId": "ffc01496-7be0-4b8d-f2df-a3e277f56cdb"
      },
      "execution_count": 22,
      "outputs": [
        {
          "output_type": "execute_result",
          "data": {
            "text/plain": [
              "[1, 2, 3, 4, 'Ineuron', 5]"
            ]
          },
          "metadata": {},
          "execution_count": 22
        }
      ]
    },
    {
      "cell_type": "code",
      "source": [
        "#tuples are immutable\n",
        "tuple=(1,2,3,4,5)\n",
        "tuple"
      ],
      "metadata": {
        "colab": {
          "base_uri": "https://localhost:8080/"
        },
        "id": "SFNazor5hqNA",
        "outputId": "94cb3955-cf99-4777-a5b8-d180bdf1bded"
      },
      "execution_count": 24,
      "outputs": [
        {
          "output_type": "execute_result",
          "data": {
            "text/plain": [
              "(1, 2, 3, 4, 5)"
            ]
          },
          "metadata": {},
          "execution_count": 24
        }
      ]
    },
    {
      "cell_type": "code",
      "source": [
        "#We cannot change value of the tuple.\n",
        "tuple[0]=\"x\""
      ],
      "metadata": {
        "colab": {
          "base_uri": "https://localhost:8080/",
          "height": 183
        },
        "id": "z-37nyOwhvUG",
        "outputId": "f7d9d8c8-cee2-4945-dee3-affb2ec8f0ec"
      },
      "execution_count": 26,
      "outputs": [
        {
          "output_type": "error",
          "ename": "TypeError",
          "evalue": "ignored",
          "traceback": [
            "\u001b[0;31m---------------------------------------------------------------------------\u001b[0m",
            "\u001b[0;31mTypeError\u001b[0m                                 Traceback (most recent call last)",
            "\u001b[0;32m<ipython-input-26-27a545fee1f9>\u001b[0m in \u001b[0;36m<cell line: 2>\u001b[0;34m()\u001b[0m\n\u001b[1;32m      1\u001b[0m \u001b[0;31m#\u001b[0m\u001b[0;34m\u001b[0m\u001b[0;34m\u001b[0m\u001b[0m\n\u001b[0;32m----> 2\u001b[0;31m \u001b[0mtuple\u001b[0m\u001b[0;34m[\u001b[0m\u001b[0;36m0\u001b[0m\u001b[0;34m]\u001b[0m\u001b[0;34m=\u001b[0m\u001b[0;34m\"x\"\u001b[0m\u001b[0;34m\u001b[0m\u001b[0;34m\u001b[0m\u001b[0m\n\u001b[0m",
            "\u001b[0;31mTypeError\u001b[0m: 'tuple' object does not support item assignment"
          ]
        }
      ]
    },
    {
      "cell_type": "markdown",
      "source": [
        "Q.9. Write a code to create the given structure using only for loop.\n",
        "*\n",
        "***\n",
        "*****\n",
        "*******\n",
        "*********"
      ],
      "metadata": {
        "id": "gfawngtaiNhb"
      }
    },
    {
      "cell_type": "code",
      "source": [
        "rows = 5\n",
        "\n",
        "for i in range(1, rows + 1):\n",
        "    for j in range(1, 2 * i):\n",
        "        print(\"*\", end=\"\")\n",
        "    print()"
      ],
      "metadata": {
        "colab": {
          "base_uri": "https://localhost:8080/"
        },
        "id": "TidhkD4kh1Ja",
        "outputId": "5965daf9-3a2b-4290-9daf-6d20dc7f74ac"
      },
      "execution_count": 27,
      "outputs": [
        {
          "output_type": "stream",
          "name": "stdout",
          "text": [
            "*\n",
            "***\n",
            "*****\n",
            "*******\n",
            "*********\n"
          ]
        }
      ]
    },
    {
      "cell_type": "markdown",
      "source": [
        "Q.10. Write a code to create the given structure using while loop.\n",
        "\n",
        "|||||||||\n",
        "\n",
        "|||||||\n",
        "\n",
        "|||||\n",
        "\n",
        "|||\n",
        "\n",
        "|"
      ],
      "metadata": {
        "id": "nek7sJg5icyp"
      }
    },
    {
      "cell_type": "code",
      "source": [
        "rows=5\n",
        "for i in range(0,rows+1):\n",
        " for j in range(1,2*(5-i)):\n",
        "    print(\"|\",end=\"\")\n",
        " print(\"\\n\")"
      ],
      "metadata": {
        "colab": {
          "base_uri": "https://localhost:8080/"
        },
        "id": "vWIMaDtSijNI",
        "outputId": "91260d78-8442-4a1c-e066-1b58a1a6922a"
      },
      "execution_count": 37,
      "outputs": [
        {
          "output_type": "stream",
          "name": "stdout",
          "text": [
            "|||||||||\n",
            "\n",
            "|||||||\n",
            "\n",
            "|||||\n",
            "\n",
            "|||\n",
            "\n",
            "|\n",
            "\n",
            "\n",
            "\n"
          ]
        }
      ]
    },
    {
      "cell_type": "markdown",
      "source": [],
      "metadata": {
        "id": "Ym3rdnSRj8Ee"
      }
    }
  ]
}