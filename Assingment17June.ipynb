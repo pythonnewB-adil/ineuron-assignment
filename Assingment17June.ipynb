{
  "nbformat": 4,
  "nbformat_minor": 0,
  "metadata": {
    "colab": {
      "provenance": [],
      "authorship_tag": "ABX9TyNx2/qdKhA2jY5wB5gd4Z5X",
      "include_colab_link": true
    },
    "kernelspec": {
      "name": "python3",
      "display_name": "Python 3"
    },
    "language_info": {
      "name": "python"
    }
  },
  "cells": [
    {
      "cell_type": "markdown",
      "metadata": {
        "id": "view-in-github",
        "colab_type": "text"
      },
      "source": [
        "<a href=\"https://colab.research.google.com/github/pythonnewB-adil/ineuron-assignment/blob/main/Assingment17June.ipynb\" target=\"_parent\"><img src=\"https://colab.research.google.com/assets/colab-badge.svg\" alt=\"Open In Colab\"/></a>"
      ]
    },
    {
      "cell_type": "code",
      "execution_count": null,
      "metadata": {
        "id": "0JVbWnUBvwKo"
      },
      "outputs": [],
      "source": []
    },
    {
      "cell_type": "markdown",
      "source": [
        "What is the role of try and exception block?"
      ],
      "metadata": {
        "id": "gcwnvi5mvxAW"
      }
    },
    {
      "cell_type": "markdown",
      "source": [
        "Try block executes part of code that may throw an error. Exception block deals with exceptuion that occurs in try block"
      ],
      "metadata": {
        "id": "qc1_ZfmHvySg"
      }
    },
    {
      "cell_type": "markdown",
      "source": [
        "What is the syntax for a basic try-except block?\n"
      ],
      "metadata": {
        "id": "4kFJbjRGv8QU"
      }
    },
    {
      "cell_type": "markdown",
      "source": [
        "try:\n",
        "  #Code that can raise and Exception\n",
        "except ExceptionType:\n",
        "  #Code to handle exception"
      ],
      "metadata": {
        "id": "oxPYBBzHwIt_"
      }
    },
    {
      "cell_type": "markdown",
      "source": [
        "What happens if an exception occurs inside a try block and there is no matching\n",
        "except block?"
      ],
      "metadata": {
        "id": "24J0hDZFwUNr"
      }
    },
    {
      "cell_type": "markdown",
      "source": [
        "In this case the program will terminate abruptly and an error message will be displayed."
      ],
      "metadata": {
        "id": "z3zbwzBSwhXN"
      }
    },
    {
      "cell_type": "markdown",
      "source": [
        "What is the difference between using a bare except block and specifying a specific\n",
        "exception type?"
      ],
      "metadata": {
        "id": "kquW3phdwqf2"
      }
    },
    {
      "cell_type": "markdown",
      "source": [
        "A bare except block catches all errors and handles them in a uniform manner, while specific exception type only catches errors based on the type specified and handles that error type as defined in the except block"
      ],
      "metadata": {
        "id": "1VDYJ6_uwvgv"
      }
    },
    {
      "cell_type": "markdown",
      "source": [
        "Can you have nested try-except blocks in Python? If yes, then give an example."
      ],
      "metadata": {
        "id": "quK2Dyj7yUig"
      }
    },
    {
      "cell_type": "code",
      "source": [
        "#Yes\n",
        "def divide_numbers(a,b):\n",
        "  try:\n",
        "    result = a/b\n",
        "    print(result)\n",
        "    try:\n",
        "      my_list=[1,2,3]\n",
        "      print(f\"The element at index {b} is {my_list[b]}\")\n",
        "    except IndexError:\n",
        "      print(\"Inner: Index out of range in the list\")\n",
        "  except ZeroDivisionError:\n",
        "    print(\"Outer: Cannot Divide by Zero\")\n",
        "\n",
        "divide_numbers(10,2)\n",
        "divide_numbers(5,0)"
      ],
      "metadata": {
        "colab": {
          "base_uri": "https://localhost:8080/"
        },
        "id": "e9_tzw2LyaoE",
        "outputId": "04a518af-878f-4259-a73c-182472b4dffc"
      },
      "execution_count": 4,
      "outputs": [
        {
          "output_type": "stream",
          "name": "stdout",
          "text": [
            "5.0\n",
            "The element at index 2 is 3\n",
            "Outer: Cannot Divide by Zero\n"
          ]
        }
      ]
    },
    {
      "cell_type": "markdown",
      "source": [
        "Can we use multiple exception blocks, if yes then give an example."
      ],
      "metadata": {
        "id": "B8o42RA10j23"
      }
    },
    {
      "cell_type": "code",
      "source": [
        "#Yes\n",
        "def divide_numbers(a, b):\n",
        "    try:\n",
        "        result = a / b\n",
        "        print(f\"The result of {a} divided by {b} is: {result}\")\n",
        "\n",
        "    except ZeroDivisionError:\n",
        "        print(\"Error: Cannot divide by zero!\")\n",
        "\n",
        "    except ValueError:\n",
        "        print(\"Error: Invalid input. Please provide valid numeric values.\")\n",
        "\n",
        "    except TypeError:\n",
        "        print(\"Error: Incorrect data type. Please provide numbers.\")\n",
        "\n",
        "# Test the function with different inputs\n",
        "divide_numbers(10, 2)\n",
        "divide_numbers(5, 0)\n",
        "divide_numbers(\"hello\", 2)"
      ],
      "metadata": {
        "colab": {
          "base_uri": "https://localhost:8080/"
        },
        "id": "8JEnSCNv0kin",
        "outputId": "10c41901-9696-448d-e008-e13061ac1897"
      },
      "execution_count": 5,
      "outputs": [
        {
          "output_type": "stream",
          "name": "stdout",
          "text": [
            "The result of 10 divided by 2 is: 5.0\n",
            "Error: Cannot divide by zero!\n",
            "Error: Incorrect data type. Please provide numbers.\n"
          ]
        }
      ]
    },
    {
      "cell_type": "markdown",
      "source": [
        "Write the reason due to which following errors are raised:\n",
        "\n",
        "a. EOFError\n",
        "\n",
        "b. FloatingPointError\n",
        "\n",
        "c. IndexError\n",
        "\n",
        "d. MemoryError\n",
        "\n",
        "e. OverflowError\n",
        "\n",
        "f. TabError\n",
        "\n",
        "g. ValueError"
      ],
      "metadata": {
        "id": "8wQJT29_0ztm"
      }
    },
    {
      "cell_type": "markdown",
      "source": [
        "Write the reason due to which following errors are raised:\n",
        "\n",
        "a. EOFError: End of File Error - This happens when the input function encounters end of file which can happen if user did not input any value or terminates an input stream\n",
        "\n",
        "b. FloatingPointError: This error is raised when the floating point value is too large or too small\n",
        "\n",
        "c. IndexError: This error is raised when an invalid index is provided to a tuple or list\n",
        "\n",
        "d. MemoryError: This error is raised when operation requires more memmory that what is available\n",
        "\n",
        "e. OverflowError: This error occurs when result of an operation result in a value that cannot be represented by the value\n",
        "\n",
        "f. TabError: This error occurs due to wrong indentation\n",
        "\n",
        "g. ValueError: This error occurs when a variable receives an argument of correct type but inappropriate value"
      ],
      "metadata": {
        "id": "hWwb_B5I068O"
      }
    },
    {
      "cell_type": "markdown",
      "source": [
        "Write code for the following given scenario and add try-exception block to it.\n",
        "\n",
        "a. Program to divide two numbers\n",
        "\n",
        "b. Program to convert a string to an integer\n",
        "\n",
        "c. Program to access an element in a list\n",
        "\n",
        "d. Program to handle a specific exception\n",
        "\n",
        "e. Program to handle any exception"
      ],
      "metadata": {
        "id": "Tjyov-wo5wHY"
      }
    },
    {
      "cell_type": "markdown",
      "source": [],
      "metadata": {
        "id": "9YsFLHCa5qwn"
      }
    },
    {
      "cell_type": "code",
      "source": [
        "#Program to divide 2 numbers\n",
        "var_1=int(input(\"Enter varialbe 1: \"))\n",
        "var_2=int(input(\"Enter varialbe 2: \"))\n",
        "try:\n",
        "  result=var_1/var_2\n",
        "  print(\"Result of Division : \",result)\n",
        "except ZeroDivisionError:\n",
        "  print(\"Cannot Divide by Zero\")\n"
      ],
      "metadata": {
        "colab": {
          "base_uri": "https://localhost:8080/"
        },
        "id": "ORu3SQsi57r9",
        "outputId": "3f87a63f-2518-45dd-8081-a9a27083c590"
      },
      "execution_count": 7,
      "outputs": [
        {
          "output_type": "stream",
          "name": "stdout",
          "text": [
            "Enter varialbe 1: 12\n",
            "Enter varialbe 2: 2\n",
            "Result of Division :  6.0\n"
          ]
        }
      ]
    },
    {
      "cell_type": "code",
      "source": [
        "#Program to convert string to an integer\n",
        "x=input(\"Enter a number: \")\n",
        "try:\n",
        "  x=int(x)\n",
        "  print(f\"The integer value is {x}\")\n",
        "except ValueError:\n",
        "  print(\"The entered value cannot be converted\")\n"
      ],
      "metadata": {
        "colab": {
          "base_uri": "https://localhost:8080/"
        },
        "id": "8M9RVG2T6ojU",
        "outputId": "807bc63f-c7d3-4b28-9273-14a65e4bb8db"
      },
      "execution_count": 12,
      "outputs": [
        {
          "output_type": "stream",
          "name": "stdout",
          "text": [
            "Enter a number: 23\n",
            "The integer value is 23\n"
          ]
        }
      ]
    },
    {
      "cell_type": "code",
      "source": [
        "#Program to convert access an element in a list\n",
        "n=int(input(\"Enter the index value :\"))\n",
        "my_List=[1,2,3,4,5,6,7,8]\n",
        "try:\n",
        "  print(f\"The value {n}th value is :\",my_List[n-1])\n",
        "\n",
        "except IndexError:\n",
        "  print(\"Index is invalid\")\n"
      ],
      "metadata": {
        "colab": {
          "base_uri": "https://localhost:8080/"
        },
        "id": "iopnzJ3d7gKS",
        "outputId": "c076f613-9e3e-496c-d205-4f39b6b3e2ad"
      },
      "execution_count": 19,
      "outputs": [
        {
          "output_type": "stream",
          "name": "stdout",
          "text": [
            "Enter the index value :8\n",
            "The value 8th value is : 8\n"
          ]
        }
      ]
    },
    {
      "cell_type": "code",
      "source": [
        "#Program to handle a specific Exception\n",
        "n=int(input(\"Enter the index value :\"))\n",
        "my_List=[1,2,3,4,5,6,7,8]\n",
        "try:\n",
        "  print(f\"The value {n}th value is :\",my_List[n-1])\n",
        "\n",
        "except IndexError:\n",
        "  print(\"Error: Index is invalid\")"
      ],
      "metadata": {
        "colab": {
          "base_uri": "https://localhost:8080/"
        },
        "id": "EliAYSUK8n_E",
        "outputId": "21a92900-ed7e-46f5-f358-20ff1be6b2fb"
      },
      "execution_count": 20,
      "outputs": [
        {
          "output_type": "stream",
          "name": "stdout",
          "text": [
            "Enter the index value :10\n",
            "Index is invalid\n"
          ]
        }
      ]
    },
    {
      "cell_type": "code",
      "source": [
        "#Program to handle any Exception\n",
        "n=int(input(\"Enter the index value :\"))\n",
        "my_List=[1,2,3,4,5,6,7,8]\n",
        "try:\n",
        "  print(f\"The value {n}th value is :\",my_List[n-1])\n",
        "\n",
        "except:\n",
        "  print(\"An error occured. Please try again\")"
      ],
      "metadata": {
        "colab": {
          "base_uri": "https://localhost:8080/"
        },
        "id": "aBwFGO8981Ot",
        "outputId": "01bc28ef-d58d-4b91-f8bb-e8114353e98c"
      },
      "execution_count": 21,
      "outputs": [
        {
          "output_type": "stream",
          "name": "stdout",
          "text": [
            "Enter the index value :25\n",
            "An error occured. Please try again\n"
          ]
        }
      ]
    }
  ]
}