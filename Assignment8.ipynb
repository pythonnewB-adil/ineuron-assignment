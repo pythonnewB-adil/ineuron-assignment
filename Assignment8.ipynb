{
  "nbformat": 4,
  "nbformat_minor": 0,
  "metadata": {
    "colab": {
      "provenance": [],
      "authorship_tag": "ABX9TyM7GbO9JKBCpHpkx7LOHY9u",
      "include_colab_link": true
    },
    "kernelspec": {
      "name": "python3",
      "display_name": "Python 3"
    },
    "language_info": {
      "name": "python"
    }
  },
  "cells": [
    {
      "cell_type": "markdown",
      "metadata": {
        "id": "view-in-github",
        "colab_type": "text"
      },
      "source": [
        "<a href=\"https://colab.research.google.com/github/pythonnewB-adil/ineuron-assignment/blob/main/Assignment8.ipynb\" target=\"_parent\"><img src=\"https://colab.research.google.com/assets/colab-badge.svg\" alt=\"Open In Colab\"/></a>"
      ]
    },
    {
      "cell_type": "code",
      "execution_count": null,
      "metadata": {
        "id": "E6vOpDCwVcA0"
      },
      "outputs": [],
      "source": []
    },
    {
      "cell_type": "markdown",
      "source": [
        "Q1 .In Python, what is the difference between a built-in function and a user-defined function? Provide an\n",
        "example of each."
      ],
      "metadata": {
        "id": "YIoGy0jgViuk"
      }
    },
    {
      "cell_type": "markdown",
      "source": [
        "Built in functions are functions that are predefined and available in python libraries. User defined functions are defined by user.\n",
        "Eg:\n",
        "\n",
        "Built in function:\n",
        "\n",
        "print()\n",
        "\n",
        "user defined function:\n",
        "\n",
        "def addition(x,y)\n",
        "\n",
        "  return(x+y)"
      ],
      "metadata": {
        "id": "miODyzD7VqFj"
      }
    },
    {
      "cell_type": "markdown",
      "source": [
        "Q2. How can you pass arguments to a function in Python? Explain the difference between positional\n",
        "arguments and keyword arguments."
      ],
      "metadata": {
        "id": "J6NELVXYWAvy"
      }
    },
    {
      "cell_type": "markdown",
      "source": [
        "Positional arguments can be passed during function call by defining values in the order at which they appear\n",
        "eg.\n",
        "\n",
        "def addition(x,y)\n",
        "\n",
        "  return(x+y)\n",
        "\n",
        "print(addition(a,b)) #a=x and b=y | here positional argument is being used\n",
        "\n",
        "print(addition(x=a,y=b)) #a=x and b=y | here keyword argument is being used"
      ],
      "metadata": {
        "id": "x5OvotbqWFY-"
      }
    },
    {
      "cell_type": "markdown",
      "source": [
        "Q3. What is the purpose of the return statement in a function? Can a function have multiple return\n",
        "statements? Explain with an example."
      ],
      "metadata": {
        "id": "BdW644OaXMjq"
      }
    },
    {
      "cell_type": "markdown",
      "source": [
        "A return function is used for following:\n",
        "\n",
        "  1.Assigning a particualr value to the function when called\n",
        "\n",
        "  2.Exiting the function\n",
        "\n",
        "It is possible to have multiple return statement inside a function. but when any of the return statement executed the function is exited and balance portion of code inside the function will not be executed."
      ],
      "metadata": {
        "id": "4K4NHmmHXUwJ"
      }
    },
    {
      "cell_type": "markdown",
      "source": [
        "Q4. What are lambda functions in Python? How are they different from regular functions? Provide an\n",
        "example where a lambda function can be useful."
      ],
      "metadata": {
        "id": "WBphwwbmYGsX"
      }
    },
    {
      "cell_type": "markdown",
      "source": [
        "Lambda functions are defined to create a simple function quickly for short term use.\n",
        "eg:\n"
      ],
      "metadata": {
        "id": "oMc8HahcYMg3"
      }
    },
    {
      "cell_type": "code",
      "source": [
        "square= lambda x: x**2\n",
        "print(square(2))\n"
      ],
      "metadata": {
        "colab": {
          "base_uri": "https://localhost:8080/"
        },
        "id": "Vc68PNqkYpoX",
        "outputId": "4dbd48b3-f7d8-4a6f-e1e1-7e18601d5a2f"
      },
      "execution_count": 11,
      "outputs": [
        {
          "output_type": "stream",
          "name": "stdout",
          "text": [
            "4\n"
          ]
        }
      ]
    },
    {
      "cell_type": "markdown",
      "source": [
        "Q5. How does the concept of \"scope\" apply to functions in Python? Explain the difference between local scope and global scope."
      ],
      "metadata": {
        "id": "f2zkZ6mgZ4NA"
      }
    },
    {
      "cell_type": "markdown",
      "source": [
        "A varaible defined inside a function can only be accessed or modified withing that function. This porperty is called local scope.\n",
        "A global scope exist when a variable is defined outside all function. Here this variable can be accessed outsied all functions as well as inside a function provided we use keyword global so that the program can identify the variable"
      ],
      "metadata": {
        "id": "nxKIUX2XaNdy"
      }
    },
    {
      "cell_type": "markdown",
      "source": [
        "Q6. How can you use the \"return\" statement in a Python function to return multiple values?"
      ],
      "metadata": {
        "id": "G6QlwoPMaqB9"
      }
    },
    {
      "cell_type": "markdown",
      "source": [
        "We may use return tuples so that the return statement returns an orderd list of items which can be then accessed"
      ],
      "metadata": {
        "id": "DPFq9GYCaukR"
      }
    },
    {
      "cell_type": "code",
      "source": [
        "def statistics(marks):\n",
        "  total= sum(marks)\n",
        "  average= total/ len(marks)\n",
        "  max_value= max(marks)\n",
        "  min_value= min(marks)\n",
        "  return total, average, max_value, min_value\n",
        "\n",
        "marklist_ineuron= [50,40,46,48,50]\n",
        "result= statistics(marklist_ineuron)\n",
        "print (result)"
      ],
      "metadata": {
        "colab": {
          "base_uri": "https://localhost:8080/"
        },
        "id": "GX3VQPsmbKS_",
        "outputId": "5d509ec3-2962-49b5-9e03-d2d5e826dbce"
      },
      "execution_count": 13,
      "outputs": [
        {
          "output_type": "stream",
          "name": "stdout",
          "text": [
            "(234, 46.8, 50, 40)\n"
          ]
        }
      ]
    },
    {
      "cell_type": "code",
      "source": [
        "print(\"Total=\", result[0])\n",
        "print(\"Avg=\",result[1])"
      ],
      "metadata": {
        "colab": {
          "base_uri": "https://localhost:8080/"
        },
        "id": "rez9fT-ZcSPQ",
        "outputId": "0d553056-3a2d-43b9-dd1a-99cccd5ba3d6"
      },
      "execution_count": 14,
      "outputs": [
        {
          "output_type": "stream",
          "name": "stdout",
          "text": [
            "Total= 234\n",
            "Avg= 46.8\n"
          ]
        }
      ]
    },
    {
      "cell_type": "markdown",
      "source": [
        "Q7. What is the difference between the \"pass by value\" and \"pass by reference\" concepts when it\n",
        "comes to function arguments in Python?"
      ],
      "metadata": {
        "id": "a1fWlH54cWgW"
      }
    },
    {
      "cell_type": "markdown",
      "source": [
        "In pass by value method the function carries out its operation with variable provided to the function as its argument.\n",
        "In pass by reference method operation is created against the memory location of argument passed to the function.\n",
        "\n",
        "Python is neither striclty pass by value or passby reference. it uses pass by object reference. if the argument is mutable the action is similar to pass by reference method where any changes made in the function is refelected back in to the mutable argument.\n",
        "if the argument is immutable in nature no change is made to the orginal argument"
      ],
      "metadata": {
        "id": "o_AnWcqccc7m"
      }
    },
    {
      "cell_type": "markdown",
      "source": [
        "Q8. Create a function that can intake integer or decimal value and do following operations:\n",
        "a. Logarithmic function (log x)\n",
        "\n",
        "b. Exponential function (exp(x))\n",
        "\n",
        "c. Power function with base 2 (2x\n",
        "\n",
        "d. Square root"
      ],
      "metadata": {
        "id": "xyxyG_KxeAIZ"
      }
    },
    {
      "cell_type": "code",
      "source": [
        "import math\n",
        "def new_func(x):\n",
        "  log_of_x= math.log(x)\n",
        "  exp_of_x= math.exp(x)\n",
        "  power_of_x= 2**x\n",
        "  sqrt_of_x=math.sqrt(x)\n",
        "  return log_of_x, exp_of_x, power_of_x, sqrt_of_x\n",
        "\n",
        "y=int(input(\"Enter Value:\"))\n",
        "answer=new_func(y)\n",
        "print(\"Log of x:\", answer[0])\n",
        "print(\"Exponent of x:\", answer[1])\n",
        "print(\"Power of x:\", answer[2])\n",
        "print(\"Square Root of x\", answer[3])\n"
      ],
      "metadata": {
        "colab": {
          "base_uri": "https://localhost:8080/"
        },
        "id": "OvUeKN8teKtv",
        "outputId": "54ee531d-0030-4e24-c6ec-dc9df68447b5"
      },
      "execution_count": 22,
      "outputs": [
        {
          "output_type": "stream",
          "name": "stdout",
          "text": [
            "Enter Value:100\n",
            "Log of x: 4.605170185988092\n",
            "Exponent of x: 2.6881171418161356e+43\n",
            "Power of x: 1267650600228229401496703205376\n",
            "Square Root of x 10.0\n"
          ]
        }
      ]
    },
    {
      "cell_type": "markdown",
      "source": [
        "Q9 Create a function that takes a full name as an argument and returns first name and last name."
      ],
      "metadata": {
        "id": "1yLVjgq-f7y-"
      }
    },
    {
      "cell_type": "code",
      "source": [
        "name=input(\"Enter your full Name\")\n",
        "space_index=name.index(' ')\n",
        "first_name=name[:space_index]\n",
        "last_name=name[space_index+1:]\n",
        "print(\"First Name:\",first_name)\n",
        "print(\"Second Name\",last_name)"
      ],
      "metadata": {
        "colab": {
          "base_uri": "https://localhost:8080/"
        },
        "id": "pEumE_36gB7i",
        "outputId": "d6ba12a7-5eb7-4fe2-c043-111cc831f5ea"
      },
      "execution_count": 23,
      "outputs": [
        {
          "output_type": "stream",
          "name": "stdout",
          "text": [
            "Enter your full NameAdil Nazeer\n",
            "First Name: Adil\n",
            "Second Name Nazeer\n"
          ]
        }
      ]
    }
  ]
}