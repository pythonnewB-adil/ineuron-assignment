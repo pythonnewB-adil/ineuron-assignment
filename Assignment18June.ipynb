{
  "nbformat": 4,
  "nbformat_minor": 0,
  "metadata": {
    "colab": {
      "provenance": [],
      "authorship_tag": "ABX9TyNWGepT5AMouXO4ZNbIcikb",
      "include_colab_link": true
    },
    "kernelspec": {
      "name": "python3",
      "display_name": "Python 3"
    },
    "language_info": {
      "name": "python"
    }
  },
  "cells": [
    {
      "cell_type": "markdown",
      "metadata": {
        "id": "view-in-github",
        "colab_type": "text"
      },
      "source": [
        "<a href=\"https://colab.research.google.com/github/pythonnewB-adil/ineuron-assignment/blob/main/Assignment18June.ipynb\" target=\"_parent\"><img src=\"https://colab.research.google.com/assets/colab-badge.svg\" alt=\"Open In Colab\"/></a>"
      ]
    },
    {
      "cell_type": "code",
      "execution_count": null,
      "metadata": {
        "id": "Y3xoQqhv9ZRG"
      },
      "outputs": [],
      "source": []
    },
    {
      "cell_type": "markdown",
      "source": [
        "What is the role of the 'else' block in a try-except statement? Provide an example\n",
        "scenario where it would be useful."
      ],
      "metadata": {
        "id": "wTdqW0t49bMr"
      }
    },
    {
      "cell_type": "code",
      "source": [
        "# Else part of Try Except block is executed if no exception occurs. It can be used to ensure that balance operation occurs only if no excpetion have occured\n",
        "def divide_numbers(a, b):\n",
        "    try:\n",
        "        result = a / b\n",
        "    except ZeroDivisionError:\n",
        "        print(\"Error: Cannot divide by zero!\")\n",
        "    else:\n",
        "        print(f\"The result of {a} divided by {b} is: {result}\")\n",
        "\n",
        "# Test the function with different inputs\n",
        "divide_numbers(10, 2)\n",
        "divide_numbers(5, 0)"
      ],
      "metadata": {
        "id": "O_AwyEA39m94"
      },
      "execution_count": null,
      "outputs": []
    },
    {
      "cell_type": "markdown",
      "source": [
        "Can a try-except block be nested inside another try-except block? Explain with an\n",
        "example."
      ],
      "metadata": {
        "id": "DtPK0IrU90Ad"
      }
    },
    {
      "cell_type": "code",
      "source": [
        "#Yes\n",
        "def divide_numbers(a,b):\n",
        "  try:\n",
        "    result = a/b\n",
        "    print(result)\n",
        "    try:\n",
        "      my_list=[1,2,3]\n",
        "      print(f\"The element at index {b} is {my_list[b]}\")\n",
        "    except IndexError:\n",
        "      print(\"Inner: Index out of range in the list\")\n",
        "  except ZeroDivisionError:\n",
        "    print(\"Outer: Cannot Divide by Zero\")\n",
        "\n",
        "divide_numbers(10,2)\n",
        "divide_numbers(5,0)"
      ],
      "metadata": {
        "colab": {
          "base_uri": "https://localhost:8080/"
        },
        "id": "a8G5k-Ai967H",
        "outputId": "6f0d4a93-6c1d-436b-8b37-97470977147e"
      },
      "execution_count": 1,
      "outputs": [
        {
          "output_type": "stream",
          "name": "stdout",
          "text": [
            "5.0\n",
            "The element at index 2 is 3\n",
            "Outer: Cannot Divide by Zero\n"
          ]
        }
      ]
    },
    {
      "cell_type": "markdown",
      "source": [
        "How can you create a custom exception class in Python? Provide an example that\n",
        "demonstrates its usage."
      ],
      "metadata": {
        "id": "WPSpu_Hy-NqH"
      }
    },
    {
      "cell_type": "code",
      "source": [
        "class NegativeNumberError(Exception):\n",
        "  def __init__(self,message=\"Number cannot be negaitive.\"):\n",
        "    self.message=message\n",
        "    super().__init__(self.message)\n",
        "\n",
        "def square_root(x):\n",
        "  if x<0:\n",
        "    raise NegativeNumberError()\n",
        "  return x**0.5\n",
        "\n",
        "try:\n",
        "  num=float(input(\"Enter a number : \"))\n",
        "  result= square_root(num)\n",
        "except ValueError:\n",
        "  print(\"Invalid Input\")\n",
        "except NegativeNumberError as e:\n",
        "  print(f\"Error: {e}\")\n"
      ],
      "metadata": {
        "colab": {
          "base_uri": "https://localhost:8080/"
        },
        "id": "AKSsr4el-btS",
        "outputId": "0ab4d9ef-4b3b-454e-b8f2-33c38afced9f"
      },
      "execution_count": 3,
      "outputs": [
        {
          "output_type": "stream",
          "name": "stdout",
          "text": [
            "Enter a number : -24\n",
            "Error: Number cannot be negaitive.\n"
          ]
        }
      ]
    },
    {
      "cell_type": "markdown",
      "source": [
        "What are some common exceptions that are built-in to Python?"
      ],
      "metadata": {
        "id": "StavIKCf_bjv"
      }
    },
    {
      "cell_type": "markdown",
      "source": [
        "ZeroDivisionError, SyntaxError, ValueError, TypeError, NameError, IndexError, OverflowError, MemmoryError"
      ],
      "metadata": {
        "id": "yPFlliSc_e9J"
      }
    },
    {
      "cell_type": "markdown",
      "source": [
        "What is logging in Python, and why is it important in software development?"
      ],
      "metadata": {
        "id": "sHVFKXj0_8A3"
      }
    },
    {
      "cell_type": "markdown",
      "source": [
        "Logging helps is Debugging, Error Analysis, Performance Management and maintenance, Auditing & Compliance, Security anlaysis etc."
      ],
      "metadata": {
        "id": "-Vv8-9CeAE8L"
      }
    },
    {
      "cell_type": "markdown",
      "source": [
        "Explain the purpose of log levels in Python logging and provide examples of when\n",
        "each log level would be appropriate."
      ],
      "metadata": {
        "id": "hzkg5uxuATPT"
      }
    },
    {
      "cell_type": "markdown",
      "source": [
        "CRITICAL: These are critical errors that lead to termination of program\n",
        "\n",
        "ERROR: These are error\n",
        "\n",
        "WARNING: These indicates potential issues that may require attention but do not cause any errors\n",
        "\n",
        "INFO: High level monitoring and  general information of programs execution\n",
        "\n",
        "DEBUG: Detailed level of information which traces the flow of program in step by step manner"
      ],
      "metadata": {
        "id": "TEM2qK_yAXJn"
      }
    },
    {
      "cell_type": "markdown",
      "source": [
        "What are log formatters in Python logging, and how can you customise the log\n",
        "message format using formatters?"
      ],
      "metadata": {
        "id": "ydprabrqBGiQ"
      }
    },
    {
      "cell_type": "markdown",
      "source": [
        "Log formatters are used in python to format logs into a desired manner."
      ],
      "metadata": {
        "id": "IblB4Ol2BWh3"
      }
    },
    {
      "cell_type": "code",
      "source": [
        "import logging\n",
        "\n",
        "# Create a custom log formatter\n",
        "formatter = logging.Formatter(fmt='%(asctime)s - %(levelname)s - %(message)s', datefmt='%Y-%m-%d %H:%M:%S')\n",
        "\n",
        "# Create a logger and set its log level\n",
        "logger = logging.getLogger('custom_logger')\n",
        "logger.setLevel(logging.DEBUG)\n",
        "\n",
        "# Create a StreamHandler and set the log level\n",
        "stream_handler = logging.StreamHandler()\n",
        "stream_handler.setLevel(logging.DEBUG)\n",
        "\n",
        "# Set the custom formatter for the StreamHandler\n",
        "stream_handler.setFormatter(formatter)\n",
        "\n",
        "# Add the StreamHandler to the logger\n",
        "logger.addHandler(stream_handler)\n",
        "\n",
        "# Log some messages with different log levels\n",
        "logger.debug('This is a debug message.')\n",
        "logger.info('This is an info message.')\n",
        "logger.warning('This is a warning message.')\n",
        "logger.error('This is an error message.')\n",
        "logger.critical('This is a critical message.')\n"
      ],
      "metadata": {
        "colab": {
          "base_uri": "https://localhost:8080/"
        },
        "id": "LhRPyGa2BsD6",
        "outputId": "89d6be4b-d57d-462e-b871-2678d9ec76c4"
      },
      "execution_count": 4,
      "outputs": [
        {
          "output_type": "stream",
          "name": "stderr",
          "text": [
            "2023-07-23 09:14:02 - DEBUG - This is a debug message.\n",
            "DEBUG:custom_logger:This is a debug message.\n",
            "2023-07-23 09:14:02 - INFO - This is an info message.\n",
            "INFO:custom_logger:This is an info message.\n",
            "2023-07-23 09:14:02 - WARNING - This is a warning message.\n",
            "WARNING:custom_logger:This is a warning message.\n",
            "2023-07-23 09:14:02 - ERROR - This is an error message.\n",
            "ERROR:custom_logger:This is an error message.\n",
            "2023-07-23 09:14:02 - CRITICAL - This is a critical message.\n",
            "CRITICAL:custom_logger:This is a critical message.\n"
          ]
        }
      ]
    },
    {
      "cell_type": "markdown",
      "source": [
        "How can you set up logging to capture log messages from multiple modules or\n",
        "classes in a Python application?"
      ],
      "metadata": {
        "id": "0wS56AEMCI5S"
      }
    },
    {
      "cell_type": "code",
      "source": [
        "#Step1 : Configure Root Logger to specify loglevel and handlers\n",
        "#Step2: Create separate loggers for each module or class that require logging\n",
        "#Step3: Create and set log handlers\n",
        "#Step4: Set log levels and formatters to filter and access specfic log levels"
      ],
      "metadata": {
        "id": "Q_Lho6_TCOIW"
      },
      "execution_count": null,
      "outputs": []
    },
    {
      "cell_type": "markdown",
      "source": [
        "What is the difference between the logging and print statements in Python? When\n",
        "should you use logging over print statements in a real-world application?"
      ],
      "metadata": {
        "id": "ir7SKdSnDD3q"
      }
    },
    {
      "cell_type": "markdown",
      "source": [
        "Logging is used by a program to keep track of the several items that are being done by the program. Print statements are operations that display a particular value to the user interacting with the program. While it is possible to use Print statement for debuggin small codes, in a production environment we will require to structure the data and filter necessary operations based on levels and use cases for simpler debugging/ maintenance."
      ],
      "metadata": {
        "id": "LTUgFtsPDeLw"
      }
    },
    {
      "cell_type": "markdown",
      "source": [],
      "metadata": {
        "id": "qQTp3l9cEAYH"
      }
    },
    {
      "cell_type": "code",
      "source": [
        "import logging\n",
        "\n",
        "def setup_logging():\n",
        "    # Create a logger\n",
        "    logger = logging.getLogger('app_logger')\n",
        "    logger.setLevel(logging.INFO)\n",
        "\n",
        "    # Create a file handler and set it to append mode\n",
        "    file_handler = logging.FileHandler('app.log', mode='a')\n",
        "\n",
        "    # Create a formatter and set it for the file handler\n",
        "    formatter = logging.Formatter('%(asctime)s - %(levelname)s - %(message)s', datefmt='%Y-%m-%d %H:%M:%S')\n",
        "    file_handler.setFormatter(formatter)\n",
        "\n",
        "    # Add the file handler to the logger\n",
        "    logger.addHandler(file_handler)\n",
        "\n",
        "    return logger\n",
        "\n",
        "def main():\n",
        "    logger = setup_logging()\n",
        "\n",
        "    # Log the message\n",
        "    logger.info('Hello, World!')\n",
        "\n",
        "if __name__ == \"__main__\":\n",
        "    main()\n"
      ],
      "metadata": {
        "colab": {
          "base_uri": "https://localhost:8080/"
        },
        "id": "lDs2gZxJEPpz",
        "outputId": "ddf71d91-d7c0-41f4-8c67-8e72306e04bf"
      },
      "execution_count": 6,
      "outputs": [
        {
          "output_type": "stream",
          "name": "stderr",
          "text": [
            "INFO:app_logger:Hello, World!\n"
          ]
        }
      ]
    },
    {
      "cell_type": "markdown",
      "source": [
        "Create a Python program that logs an error message to the console and a file named\n",
        "\"errors.log\" if an exception occurs during the program's execution. The error\n",
        "message should include the exception type and a timestamp."
      ],
      "metadata": {
        "id": "nyEvO2bTEdj_"
      }
    },
    {
      "cell_type": "code",
      "source": [
        "import logging\n",
        "import traceback\n",
        "import datetime\n",
        "\n",
        "def setup_logging():\n",
        "    # Create a logger\n",
        "    logger = logging.getLogger('error_logger')\n",
        "    logger.setLevel(logging.ERROR)\n",
        "\n",
        "    # Create a console handler and set its log level\n",
        "    console_handler = logging.StreamHandler()\n",
        "    console_handler.setLevel(logging.ERROR)\n",
        "\n",
        "    # Create a file handler and set it to append mode\n",
        "    file_handler = logging.FileHandler('errors.log', mode='a')\n",
        "\n",
        "    # Create a formatter and set it for both handlers\n",
        "    formatter = logging.Formatter('%(asctime)s - %(levelname)s - %(message)s', datefmt='%Y-%m-%d %H:%M:%S')\n",
        "    console_handler.setFormatter(formatter)\n",
        "    file_handler.setFormatter(formatter)\n",
        "\n",
        "    # Add the handlers to the logger\n",
        "    logger.addHandler(console_handler)\n",
        "    logger.addHandler(file_handler)\n",
        "\n",
        "    return logger\n",
        "\n",
        "def simulate_error():\n",
        "    try:\n",
        "        # Simulate an exception by dividing by zero\n",
        "        result = 1 / 0\n",
        "    except Exception as e:\n",
        "        # Get the current timestamp\n",
        "        timestamp = datetime.datetime.now().strftime('%Y-%m-%d %H:%M:%S')\n",
        "\n",
        "        # Get the traceback of the exception\n",
        "        traceback_info = traceback.format_exc()\n",
        "\n",
        "        # Log the error message with the exception type and timestamp\n",
        "        logger = setup_logging()\n",
        "        logger.error(f'Exception occurred at {timestamp}: {type(e).__name__}\\n{traceback_info}')\n",
        "\n",
        "def main():\n",
        "    simulate_error()\n",
        "\n",
        "if __name__ == \"__main__\":\n",
        "    main()\n"
      ],
      "metadata": {
        "colab": {
          "base_uri": "https://localhost:8080/"
        },
        "id": "Nej1rR-VEuA2",
        "outputId": "5937347d-8b2c-4d1d-ffe1-d297a2f1a70c"
      },
      "execution_count": 8,
      "outputs": [
        {
          "output_type": "stream",
          "name": "stderr",
          "text": [
            "2023-07-23 09:27:35 - ERROR - Exception occurred at 2023-07-23 09:27:35: ZeroDivisionError\n",
            "Traceback (most recent call last):\n",
            "  File \"<ipython-input-8-664360d5cb1d>\", line 31, in simulate_error\n",
            "    result = 1 / 0\n",
            "ZeroDivisionError: division by zero\n",
            "\n",
            "2023-07-23 09:27:35 - ERROR - Exception occurred at 2023-07-23 09:27:35: ZeroDivisionError\n",
            "Traceback (most recent call last):\n",
            "  File \"<ipython-input-8-664360d5cb1d>\", line 31, in simulate_error\n",
            "    result = 1 / 0\n",
            "ZeroDivisionError: division by zero\n",
            "\n",
            "ERROR:error_logger:Exception occurred at 2023-07-23 09:27:35: ZeroDivisionError\n",
            "Traceback (most recent call last):\n",
            "  File \"<ipython-input-8-664360d5cb1d>\", line 31, in simulate_error\n",
            "    result = 1 / 0\n",
            "ZeroDivisionError: division by zero\n",
            "\n"
          ]
        }
      ]
    }
  ]
}