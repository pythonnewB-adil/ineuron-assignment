{
  "nbformat": 4,
  "nbformat_minor": 0,
  "metadata": {
    "colab": {
      "provenance": [],
      "authorship_tag": "ABX9TyOG/ONBSUTbWaerwvRsSR6q",
      "include_colab_link": true
    },
    "kernelspec": {
      "name": "python3",
      "display_name": "Python 3"
    },
    "language_info": {
      "name": "python"
    }
  },
  "cells": [
    {
      "cell_type": "markdown",
      "metadata": {
        "id": "view-in-github",
        "colab_type": "text"
      },
      "source": [
        "<a href=\"https://colab.research.google.com/github/pythonnewB-adil/ineuron-assignment/blob/main/Assignment11thJune.ipynb\" target=\"_parent\"><img src=\"https://colab.research.google.com/assets/colab-badge.svg\" alt=\"Open In Colab\"/></a>"
      ]
    },
    {
      "cell_type": "code",
      "execution_count": null,
      "metadata": {
        "id": "KbJWZYSoSKgj"
      },
      "outputs": [],
      "source": []
    },
    {
      "cell_type": "markdown",
      "source": [
        "What is a lambda function in Python, and how does it differ from a regular function?"
      ],
      "metadata": {
        "id": "gEP7MKpBSL_o"
      }
    },
    {
      "cell_type": "markdown",
      "source": [
        "A lambda function is a special type of function that can have only one expression. It is used to define simple functions which is not required later in the code"
      ],
      "metadata": {
        "id": "BRUqBvbTSN4t"
      }
    },
    {
      "cell_type": "markdown",
      "source": [
        "Can a lambda function in Python have multiple arguments? If yes, how can you define and use\n",
        "them?"
      ],
      "metadata": {
        "id": "sdMr31lASnaJ"
      }
    },
    {
      "cell_type": "code",
      "source": [
        "#Yes\n",
        "add=lambda x,y: x+y\n",
        "print(add(2,3))"
      ],
      "metadata": {
        "colab": {
          "base_uri": "https://localhost:8080/"
        },
        "id": "8sxDM8PjStwF",
        "outputId": "c98b1adc-6e21-43d4-a63b-78fb86e2bccd"
      },
      "execution_count": 1,
      "outputs": [
        {
          "output_type": "stream",
          "name": "stdout",
          "text": [
            "5\n"
          ]
        }
      ]
    },
    {
      "cell_type": "markdown",
      "source": [
        "How are lambda functions typically used in Python? Provide an example use case."
      ],
      "metadata": {
        "id": "2uK3XhLrTGG4"
      }
    },
    {
      "cell_type": "code",
      "source": [
        "#Lambda function can be used in conjunction with higher order function to perform tasks that are short and do not require a function defenition.\n",
        "numbers=[1,2,3,4,5]\n",
        "square_numbers=list(map(lambda x: x**2, numbers))\n",
        "print(square_numbers)"
      ],
      "metadata": {
        "colab": {
          "base_uri": "https://localhost:8080/"
        },
        "id": "kBWimlx7YUEi",
        "outputId": "0cdf8a32-c439-4e3e-fc70-c7c71160e26a"
      },
      "execution_count": 3,
      "outputs": [
        {
          "output_type": "stream",
          "name": "stdout",
          "text": [
            "[1, 4, 9, 16, 25]\n"
          ]
        }
      ]
    },
    {
      "cell_type": "markdown",
      "source": [
        "What are the advantages and limitations of lambda functions compared to regular functions in\n",
        "Python?"
      ],
      "metadata": {
        "id": "mslwkxo1Y0hL"
      }
    },
    {
      "cell_type": "code",
      "source": [
        "#Advantages: Lambda functions are short, simple, easily readable and allows inline usage\n",
        "#Limitations: Lamgda functions can only use a single expression, have limited functionality and is not suitable for bigger functions as debugging, get difficult and no support is available fro documentation"
      ],
      "metadata": {
        "id": "Q2OkZreYY5b7"
      },
      "execution_count": null,
      "outputs": []
    },
    {
      "cell_type": "markdown",
      "source": [
        "Are lambda functions in Python able to access variables defined outside of their own scope?\n",
        "Explain with an example."
      ],
      "metadata": {
        "id": "U9WucOqtZrdj"
      }
    },
    {
      "cell_type": "code",
      "source": [
        "#Yes.\n",
        "x=10\n",
        "lambda_func= lambda y: x+y\n",
        "result =lambda_func(5)\n",
        "result"
      ],
      "metadata": {
        "colab": {
          "base_uri": "https://localhost:8080/"
        },
        "id": "olsV7Sj7Z2oD",
        "outputId": "1ff47c70-8a9a-45dd-e3ba-1f62c08b23d0"
      },
      "execution_count": 5,
      "outputs": [
        {
          "output_type": "execute_result",
          "data": {
            "text/plain": [
              "15"
            ]
          },
          "metadata": {},
          "execution_count": 5
        }
      ]
    },
    {
      "cell_type": "markdown",
      "source": [
        "Write a lambda function to calculate the square of a given number."
      ],
      "metadata": {
        "id": "onWYBw3zaRq9"
      }
    },
    {
      "cell_type": "code",
      "source": [
        "x=int(input(\"Enter a number: \"))\n",
        "square=lambda x: x*x\n",
        "print(\"Square of \",x,\"= \",square(x))"
      ],
      "metadata": {
        "colab": {
          "base_uri": "https://localhost:8080/"
        },
        "id": "n3muCOnwaVEO",
        "outputId": "d454f911-56b3-4d67-8d1a-a22e0ca6b661"
      },
      "execution_count": 9,
      "outputs": [
        {
          "output_type": "stream",
          "name": "stdout",
          "text": [
            "Enter a number: 5\n",
            "Square of  5 =  25\n"
          ]
        }
      ]
    },
    {
      "cell_type": "markdown",
      "source": [
        "Create a lambda function to find the maximum value in a list of integers."
      ],
      "metadata": {
        "id": "WwvTKnImbIxx"
      }
    },
    {
      "cell_type": "code",
      "source": [
        "numbers=[1,2,3,4,5,6]\n",
        "max_number=max(numbers,key= lambda x: x)\n",
        "print(\"Maximum number is : \",max_number)"
      ],
      "metadata": {
        "colab": {
          "base_uri": "https://localhost:8080/"
        },
        "id": "2RnImRQ-bCgC",
        "outputId": "90a8fc76-8143-46ee-eb12-f5779503e22a"
      },
      "execution_count": 15,
      "outputs": [
        {
          "output_type": "stream",
          "name": "stdout",
          "text": [
            "Maximum number is :  6\n"
          ]
        }
      ]
    },
    {
      "cell_type": "markdown",
      "source": [
        "Implement a lambda function to filter out all the even numbers from a list of integers."
      ],
      "metadata": {
        "id": "bzFNSPnyb3OZ"
      }
    },
    {
      "cell_type": "code",
      "source": [
        "numbers=[1,2,3,4,5,6,7,8,9,10]\n",
        "odd_numbers = list(filter(lambda x: x % 2 == 1, numbers))\n",
        "print(\"List value after filtering out even numbers is : \", odd_numbers)\n"
      ],
      "metadata": {
        "colab": {
          "base_uri": "https://localhost:8080/"
        },
        "id": "ORKMQkqOb7Zu",
        "outputId": "c03dfcd5-2c29-486c-d9dc-0829f8e3233b"
      },
      "execution_count": 23,
      "outputs": [
        {
          "output_type": "stream",
          "name": "stdout",
          "text": [
            "List value after filtering out even numbers is :  [1, 3, 5, 7, 9]\n"
          ]
        }
      ]
    },
    {
      "cell_type": "markdown",
      "source": [
        "Write a lambda function to sort a list of strings in ascending order based on the length of each\n",
        "string."
      ],
      "metadata": {
        "id": "AAOmhREnc02d"
      }
    },
    {
      "cell_type": "code",
      "source": [
        "fruits=[\"apple\",\"watermelon\",\"mango\",\"banana\",\"pine apple\"]\n",
        "sorted_fruit=list(sorted(fruits, key= lambda x: len(x)))\n",
        "sorted_fruit"
      ],
      "metadata": {
        "colab": {
          "base_uri": "https://localhost:8080/"
        },
        "id": "-JT5RAOcc59E",
        "outputId": "f528defc-828b-4ce8-9798-61eb3a74aab4"
      },
      "execution_count": 28,
      "outputs": [
        {
          "output_type": "execute_result",
          "data": {
            "text/plain": [
              "['apple', 'mango', 'banana', 'watermelon', 'pine apple']"
            ]
          },
          "metadata": {},
          "execution_count": 28
        }
      ]
    },
    {
      "cell_type": "markdown",
      "source": [
        "list_1=[1,2,3,4,5,6]\n",
        "list_2=[3,4,5,6,7,8,9,10]\n",
        "common_list=filter(lambda x: x in list_1, list_2)\n",
        "common_list"
      ],
      "metadata": {
        "id": "_aYeCAvudqFj"
      }
    },
    {
      "cell_type": "code",
      "source": [
        "list_1=[1,2,3,4,5,6]\n",
        "list_2=[3,4,5,6,7,8,9,10]\n",
        "common_list=list(filter(lambda x: x in list_1, list_2))\n",
        "common_list"
      ],
      "metadata": {
        "colab": {
          "base_uri": "https://localhost:8080/"
        },
        "id": "dErQCLg7eEqe",
        "outputId": "449837c7-45cc-4be1-e3eb-20be0797f773"
      },
      "execution_count": 30,
      "outputs": [
        {
          "output_type": "execute_result",
          "data": {
            "text/plain": [
              "[3, 4, 5, 6]"
            ]
          },
          "metadata": {},
          "execution_count": 30
        }
      ]
    },
    {
      "cell_type": "markdown",
      "source": [
        "Write a recursive function to calculate the factorial of a given positive integer."
      ],
      "metadata": {
        "id": "CfumbPgJeK-u"
      }
    },
    {
      "cell_type": "code",
      "source": [
        "x=int(input(\"Enter the number: \"))\n",
        "fact_x= lambda x: 1 if x==0 else x*fact_x(x-1)\n",
        "result=fact_x(x)\n",
        "result\n"
      ],
      "metadata": {
        "colab": {
          "base_uri": "https://localhost:8080/"
        },
        "id": "bfSr1IRfeP7M",
        "outputId": "61994d63-0f3c-47f4-f956-f43ad39a47e0"
      },
      "execution_count": 33,
      "outputs": [
        {
          "name": "stdout",
          "output_type": "stream",
          "text": [
            "Enter the number: 5\n"
          ]
        },
        {
          "output_type": "execute_result",
          "data": {
            "text/plain": [
              "120"
            ]
          },
          "metadata": {},
          "execution_count": 33
        }
      ]
    },
    {
      "cell_type": "markdown",
      "source": [
        "Implement a recursive function to compute the nth Fibonacci number.\n"
      ],
      "metadata": {
        "id": "dFQMdxWyfDwQ"
      }
    },
    {
      "cell_type": "code",
      "source": [
        "n=int(input(\"Enter the Value of N :\"))\n",
        "def nth_fibonacci(x):\n",
        "  if x==0:\n",
        "    return(0)\n",
        "  elif x==1:\n",
        "    return(1)\n",
        "  else:\n",
        "    return nth_fibonacci(x-1)+nth_fibonacci(x-2)\n",
        "\n",
        "result=nth_fibonacci(n)\n",
        "result\n"
      ],
      "metadata": {
        "colab": {
          "base_uri": "https://localhost:8080/"
        },
        "id": "syH4cUeLfJkv",
        "outputId": "8325df91-8e63-4398-a3a6-a661dfd7d981"
      },
      "execution_count": 37,
      "outputs": [
        {
          "name": "stdout",
          "output_type": "stream",
          "text": [
            "Enter the Value of N :8\n"
          ]
        },
        {
          "output_type": "execute_result",
          "data": {
            "text/plain": [
              "21"
            ]
          },
          "metadata": {},
          "execution_count": 37
        }
      ]
    },
    {
      "cell_type": "markdown",
      "source": [
        "Create a recursive function to find the sum of all the elements in a given list."
      ],
      "metadata": {
        "id": "u6FSWdXIgW6D"
      }
    },
    {
      "cell_type": "code",
      "source": [
        "list_1=[1,2,3,4,5]\n",
        "sum_list= lambda x: x[0] if len(x)==1 else x[0]+sum_list(x[1:])\n",
        "result=sum_list(list_1)\n",
        "result"
      ],
      "metadata": {
        "colab": {
          "base_uri": "https://localhost:8080/"
        },
        "id": "TqBlLDjCgYbu",
        "outputId": "221a7cbb-313f-4aea-dc3f-b5f1ed8c7a20"
      },
      "execution_count": 40,
      "outputs": [
        {
          "output_type": "execute_result",
          "data": {
            "text/plain": [
              "15"
            ]
          },
          "metadata": {},
          "execution_count": 40
        }
      ]
    },
    {
      "cell_type": "markdown",
      "source": [
        "Write a recursive function to determine whether a given string is a palindrome."
      ],
      "metadata": {
        "id": "6laE5a9phnUX"
      }
    },
    {
      "cell_type": "code",
      "source": [
        "name=input(\"Enter a string : \")\n",
        "palindrome= lambda s: True if len(s) <= 1 else s[0] == s[-1] and palindrome(s[1:-1])\n",
        "result=palindrome(name)\n",
        "print(result)\n"
      ],
      "metadata": {
        "colab": {
          "base_uri": "https://localhost:8080/"
        },
        "id": "x5D1heTShsuN",
        "outputId": "701435d8-4028-4384-fa76-1538050b58a3"
      },
      "execution_count": 51,
      "outputs": [
        {
          "output_type": "stream",
          "name": "stdout",
          "text": [
            "Enter a string : malayalam\n",
            "True\n"
          ]
        }
      ]
    },
    {
      "cell_type": "markdown",
      "source": [
        "Implement a recursive function to find the greatest common divisor (GCD) of two positive integers."
      ],
      "metadata": {
        "id": "vRDpqKbZkzzD"
      }
    },
    {
      "cell_type": "code",
      "source": [
        "def GCD(a,b):\n",
        "  if (b==0):\n",
        "    return(a)\n",
        "  else:\n",
        "    return GCD(b,a%b)\n",
        "\n",
        "x=int(input(\"Enter value 1 : \"))\n",
        "y=int(input(\"Enter value 2 : \"))\n",
        "result=GCD(x,y)\n",
        "print(result)\n",
        "\n"
      ],
      "metadata": {
        "colab": {
          "base_uri": "https://localhost:8080/"
        },
        "id": "BmIaWRoqk5qL",
        "outputId": "231bb6c3-3e40-43e2-fabd-da965ae798d6"
      },
      "execution_count": 54,
      "outputs": [
        {
          "output_type": "stream",
          "name": "stdout",
          "text": [
            "Enter value 1 : 25\n",
            "Enter value 2 : 20\n",
            "5\n"
          ]
        }
      ]
    }
  ]
}